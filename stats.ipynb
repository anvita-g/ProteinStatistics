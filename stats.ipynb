{
  "nbformat": 4,
  "nbformat_minor": 5,
  "metadata": {
    "kernelspec": {
      "display_name": "Python 3",
      "language": "python",
      "name": "python3"
    },
    "language_info": {
      "codemirror_mode": {
        "name": "ipython",
        "version": 3
      },
      "file_extension": ".py",
      "mimetype": "text/x-python",
      "name": "python",
      "nbconvert_exporter": "python",
      "pygments_lexer": "ipython3",
      "version": "3.8.8"
    },
    "colab": {
      "name": "stats.ipynb",
      "provenance": [],
      "collapsed_sections": [],
      "include_colab_link": true
    }
  },
  "cells": [
    {
      "cell_type": "markdown",
      "metadata": {
        "id": "view-in-github",
        "colab_type": "text"
      },
      "source": [
        "<a href=\"https://colab.research.google.com/github/anvita-g/ProteinStatistics/blob/main/stats.ipynb\" target=\"_parent\"><img src=\"https://colab.research.google.com/assets/colab-badge.svg\" alt=\"Open In Colab\"/></a>"
      ]
    },
    {
      "cell_type": "code",
      "metadata": {
        "colab": {
          "base_uri": "https://localhost:8080/",
          "height": 803
        },
        "id": "0e6f211a",
        "outputId": "35975932-bf25-4f77-a6b8-96a7619149eb"
      },
      "source": [
        "!pip install biopython\n",
        "!sudo apt-get install dssp\n",
        "import pandas as pd\n",
        "from Bio.PDB import PDBParser\n",
        "from Bio.SeqUtils.ProtParam import ProteinAnalysis\n",
        "from Bio.PDB import *\n",
        "import numpy as np\n",
        "import array\n",
        "import matplotlib.pyplot as plt\n",
        "\n",
        "\n",
        "p = PDBParser()\n",
        "stru = p.get_structure(\"P16406\", \"./P16406.pdb\")\n",
        "\n",
        "polypeptide_builder = CaPPBuilder()\n",
        "counter = 1\n",
        "for polypeptide in polypeptide_builder.build_peptides(stru):\n",
        "    seq = polypeptide.get_sequence()\n",
        "    a = ProteinAnalysis(str(seq))\n",
        "    print(f\"Sequence: {counter}, Length: {len(seq)}\")\n",
        "    print(a.count_amino_acids())\n",
        "    p = a.count_amino_acids()\n",
        "    counter += 1\n",
        "\n",
        "print(seq)\n",
        "from collections import Counter\n",
        "letter_counts = Counter(seq)\n",
        "df = pd.DataFrame.from_dict(letter_counts, orient='index')\n",
        "df.plot(kind='bar')\n",
        "\n",
        "model = stru[0]\n",
        "dssp = DSSP(model, './P16406.pdb', dssp='mkdssp')\n",
        "\n",
        "a_key = list(dssp.keys())[2]\n",
        "\n",
        "ss = ''\n",
        "for x in range(len(dssp)):\n",
        "  a_key = list(dssp.keys())[x]\n",
        "  k = dssp[a_key]\n",
        "  if (k[2] != '-'):\n",
        "    ss+=k[2]\n",
        "\n",
        "print(ss)\n",
        "from collections import Counter\n",
        "letter_counts = Counter(ss)\n",
        "df = pd.DataFrame.from_dict(letter_counts, orient='index')\n",
        "df.plot(kind='bar')\n",
        "\n",
        "a_k = list(dssp.keys())[8]\n",
        "print(\"hello\")\n",
        "print(f\"Sequence: {a_k}\")\n",
        "count = 1\n",
        "arr = np.array([], dtype=float)   # dtype specifies the type of the elements\n",
        "\n",
        "\n",
        "r = np.array([])\n",
        "\n",
        "for x in range(len(dssp)):\n",
        "  a_key = list(dssp.keys())[x]\n",
        "  k = dssp[a_key]\n",
        "  r = np.append(r, float(k[4]))\n",
        "\n",
        "plt.plot(r) # plotting by columns\n",
        "plt.show()\n",
        "\n",
        "\n",
        "\n",
        "\n",
        "\n",
        "\n",
        "\n",
        "\n"
      ],
      "id": "0e6f211a",
      "execution_count": null,
      "outputs": [
        {
          "output_type": "stream",
          "text": [
            "Requirement already satisfied: biopython in /usr/local/lib/python3.7/dist-packages (1.79)\n",
            "Requirement already satisfied: numpy in /usr/local/lib/python3.7/dist-packages (from biopython) (1.19.5)\n",
            "Reading package lists... Done\n",
            "Building dependency tree       \n",
            "Reading state information... Done\n",
            "dssp is already the newest version (3.0.0-2).\n",
            "The following package was automatically installed and is no longer required:\n",
            "  libnvidia-common-460\n",
            "Use 'sudo apt autoremove' to remove it.\n",
            "0 upgraded, 0 newly installed, 0 to remove and 40 not upgraded.\n",
            "Sequence: 1, Length: 945\n",
            "{'A': 66, 'C': 9, 'D': 56, 'E': 63, 'F': 43, 'G': 46, 'H': 13, 'I': 51, 'K': 56, 'L': 83, 'M': 23, 'N': 47, 'P': 46, 'Q': 42, 'R': 41, 'S': 74, 'T': 54, 'V': 63, 'W': 27, 'Y': 42}\n",
            "MNFAEEEPSKKYCIKGKHVAIICGVVVAVGLIVGLSVGLTRSCEQDTTPAPSQPPPEASTALPPQDQNVCPDSEDESGEWKNFRLPDFINPVHYDLEVKALMEEDRYTGIVTISVNLSKPTRDLWLHIRETKITKLPELRRPSGEQVPIRRCFEYKKQEYVVIQAAEDLAATSGDSVYRLTMEFKGWLNGSLVGFYKTTYMEDGQIRSIAATDHEPTDARKSFPCFDEPNKKSTYSISIIHPKEYSALSNMPEEKSEMVDDNWKKTTFVKSVPMSTYLVCFAVHRFTAIERKSRSGKPLKVYVQPNQKETAEYAANITQAVFDYFEDYFAMEYALPKLDKIAIPDFGTGAMENWGLVTYRETNLLYDPLLSASSNQQRVASVVAHELVHQWFGNTVTMDWWDDLWLNEGFASFFEFLGVNHAEKDWQMLSQVLLEDVFPVQEDDSLMSSHPVVVTVSTPAEITSVFDGISYSKGASILRMLQDWITPEKFQKGCQIYLKKFQFANAKTSDFWDSLQEASNLPVKEVMDTWTSQMGYPVVTVSGRQNITQKRFLLDSKADPSQPPSELGYTWNIPVRWADNDNSRITVYNRLDKGGITLNANLSGDAFLKINPDHIGFYRVNYEGGTWDWIAEALSSNHTRFSAADRSSFIDDAFALARAQLLNYKIALNLTMYLKSEEDFLPWERVISSVSYIISMFEDDRELYPMIETYFQGQVKPVADLLGWQDTGSHITKLLRASILGFACKMGDREALGNASQLFDSWLKGSASIPVNLRLLVYRYGMQNSGNEAAWNYTLEQYQKTSLAQEKEKLLYGLASVKDVKLLARYLEMLKDPNIIKTQDVFTVIRYISYNSYGKTMAWNWIQLNWDYLVSRFTINDRYLGRIVTIAEPFNTELQLWQMQSFFAKYPNAGAGAKPREQVLETVKNNIEWLNVNRQSIREWFASLP\n",
            "HHHHHHHHHHHHHHHHHHHHHHHHTTSSBSSGGGSSSTTEEEEEEEEEEEEETTTTEEEEEEEEEEEESSEEEEEEESEESEEETTSEEEEEEEEEGGGTEEEEEEEEEETTEEEEEEEEEESSSSEEEEEEEEETTEEEEEEEEETTTTHHHHSBSTTBEEEEEEEEETTSEEEESSEEEEEESSSSEEEEEESBGGGEEEEEEEEEETTEEEEEEGGGGGGGHHHHHHHHHHHHHHHHHTTSSSEEEEEESSSSSEETTEEEEEGGGTTTTHHHHHHHHHHHHHHHHHTTBTTTBEESSGGGTHHHHHHHHHHHHHHHHHHTTSHHHHHIIIIIHHHHHHTTSTTSSSHHHHHHTSSTIIIIIHHHHHHHHHHHHHHHHHHHHHHHHHHSTTSEEHHHHHHHHHHHHSHHHHHHHHHSSSEEEEEETTTEEEEEESTTSTTSTTTTEEEEEEETTEEEEEEETTTTEETTEEESGGGSSSEEEHHHHHHHHHHHHHHGGGSHHHHHHHHHHHHHHHHTTSSHHHHHHTTGGGGGHHHHHHHHHHHHHHHHHTTTTTHHHHHHHHHHHHHHHHHHHHSSSHHHHHHHHHHHHHHHHTTHHHHHHHHHHHHHHHTTGGGHHHHHHHHHHHHHHHHHHHHHHHHHHHHHHHHHHHHHTSHHHHHHHHHHTTTTTSGGGHHHHHHHHHTSTTHHHHHHHHHHHTHHHHHHHHTTHHHHHGGGGGTTSHHHHHHHHHHHHHSGGGHHHHHHHHHHHHHHHHHHHHHHHHHHHHHHT\n",
            "hello\n",
            "Sequence: ('A', (' ', 9, ' '))\n"
          ],
          "name": "stdout"
        },
        {
          "output_type": "display_data",
          "data": {
            "image/png": "[encoded data removed]",
            "text/plain": [
              "<Figure size 432x288 with 1 Axes>"
            ]
          },
          "metadata": {
            "needs_background": "light"
          }
        },
        {
          "output_type": "display_data",
          "data": {
            "image/png": "[encoded data removed]",
            "text/plain": [
              "<Figure size 432x288 with 1 Axes>"
            ]
          },
          "metadata": {
            "needs_background": "light"
          }
        }
      ]
    },
    {
      "cell_type": "markdown",
      "metadata": {
        "id": "OkyE4LTQvGw4"
      },
      "source": [
        "# New Section"
      ],
      "id": "OkyE4LTQvGw4"
    },
    {
      "cell_type": "markdown",
      "metadata": {
        "id": "gCZ395wEvHZE"
      },
      "source": [
        "# New Section"
      ],
      "id": "gCZ395wEvHZE"
    },
    {
      "cell_type": "code",
      "metadata": {
        "id": "veVJoSMfvIMf"
      },
      "source": [
        ""
      ],
      "id": "veVJoSMfvIMf",
      "execution_count": null,
      "outputs": []
    }
  ]
}